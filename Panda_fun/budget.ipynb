{
 "cells": [
  {
   "cell_type": "code",
   "execution_count": 10,
   "metadata": {},
   "outputs": [
    {
     "ename": "SyntaxError",
     "evalue": "leading zeros in decimal integer literals are not permitted; use an 0o prefix for octal integers (3780220009.py, line 82)",
     "output_type": "error",
     "traceback": [
      "\u001b[1;36m  Input \u001b[1;32mIn [10]\u001b[1;36m\u001b[0m\n\u001b[1;33m    df99 = concat.loc[(concat['Date'] == 2021-01-25)]\u001b[0m\n\u001b[1;37m                                               ^\u001b[0m\n\u001b[1;31mSyntaxError\u001b[0m\u001b[1;31m:\u001b[0m leading zeros in decimal integer literals are not permitted; use an 0o prefix for octal integers\n"
     ]
    }
   ],
   "source": [
    "import pandas as pd\n",
    "from openpyxl import load_workbook\n",
    "import locale\n",
    "import re\n",
    "import datetime\n",
    "import numpy as np\n",
    "\n",
    "locale.setlocale(locale.LC_ALL, 'Swedish_Sweden.1252')\n",
    "\n",
    "def new_sheetsNames(start=0, end=0):\n",
    "    file = 'Privat_budget_210921 - 3 - row added.xlsx'\n",
    "    newfile = 'Privat_budget_210921 - NEW.xlsx'\n",
    "\n",
    "    wb = load_workbook(file)\n",
    "\n",
    "    startYear = 2020\n",
    "    months = ['Januari', 'Februari', 'Mars', 'April', 'Maj', 'Juni', 'Juli', 'Augusti', 'September', 'Oktober', 'November', 'December']\n",
    "    \n",
    "    for sheet in wb.sheetnames:\n",
    "        _sheet = wb[sheet]\n",
    "        if '25e' in sheet:\n",
    "            \n",
    "            for j in range(len(months)): \n",
    "                if str(months[j]) in sheet:\n",
    "                    \n",
    "                    date = f'25 {months[j]} {str(startYear)}'\n",
    "                    _sheet.title = date\n",
    "                    wb.save(newfile)\n",
    "                    if j == len(months)-1:\n",
    "                        startYear += 1\n",
    "                        j = 0\n",
    "            \n",
    "    print('Alla kolumnnamn ändrade...')\n",
    "\n",
    "def char_search(string): \n",
    "    if re.search(':e', string):\n",
    "        string = re.sub(':e', '', string)\n",
    "        return datetime.datetime.strptime(string, '%d %B %Y').date()\n",
    "    return datetime.datetime.strptime(string, '%d %B %Y').date()\n",
    "\n",
    "def summa(x):\n",
    "    pass\n",
    "\n",
    "def make_df():\n",
    "\n",
    "    budget = pd.ExcelFile(\"Privat_budget_210921 - NEW.xlsx\")\n",
    "    df = {}\n",
    "    concat  = {}  \n",
    "    df_list = []\n",
    "    peter_drop_list = [\"Spara Bilen\", \"Inkomst\", \"Gem. Räk. TOT\"]\n",
    "\n",
    "    print('Reading file...')\n",
    "    for sheet in budget.sheet_names:\n",
    "        if \"25\" in sheet:\n",
    "            df = pd.read_excel(budget, sheet, usecols=\"A:D\", nrows=22, converters={'Date': datetime})\n",
    "            df.insert(0, 'Date', char_search(sheet))\n",
    "            df['Date'] = pd.to_datetime(df['Date'])\n",
    "            df_list.append(df)\n",
    "            concat = pd.concat(df_list, ignore_index=True)\n",
    "            \n",
    "            df2021 = concat[concat['Date'].dt.to_period('Y') == '2021']\n",
    "            df2022 = concat[concat['Date'].dt.to_period('Y') == '2022']\n",
    "            \n",
    "            df2021xxx = df2021.join(df2021.groupby('Peter')['Unnamed: 1'].sum(), on='Peter', rsuffix='XXX')\n",
    "            \n",
    "            \n",
    "            #df2021['Sum 2021'] = df2021.groupby('Peter')['Unnamed: 1'].transform('sum')\n",
    "            #df2022['Sum 2022'] = df2022.groupby('Peter')['Unnamed: 1'].transform('sum')\n",
    "            \n",
    "            df2021_grouped = df2021[['Peter', 'Unnamed: 1']].groupby('Peter').agg(['count', 'mean', 'sum'])\n",
    "            df2022_grouped = df2022[['Peter', 'Unnamed: 1']].groupby('Peter').agg(['count', 'mean', 'sum'])\n",
    "            \n",
    "           \n",
    "            \n",
    "            peter = concat[['Date', 'Peter', 'Unnamed: 1']].groupby('Peter').agg(['count', 'sum', 'mean'])\n",
    "            peter1 = peter.drop(peter_drop_list)\n",
    "            sara = concat[['Date', 'Sara', 'Unnamed: 3']].groupby('Date').agg(['count', 'sum', 'mean'])\n",
    "            # merged = pd.concat([peter, sara], axis=1)\n",
    "            \n",
    "            year = peter1.groupby(concat['Date'].dt.year).agg(['sum', 'mean'])\n",
    "            \n",
    "            df99 = concat.loc[(concat['Date'] == 2021-01-25)]\n",
    "            \n",
    "            filtered_dt = df99.groupby('Peter').filter(lambda x: (x['2021'].str.startswith('Hyra')))\n",
    "\n",
    "    print(filtered_dt)\n",
    "    \n",
    "                    \n",
    "if __name__ == '__main__':\n",
    "    make_df()\n",
    "\n"
   ]
  },
  {
   "cell_type": "code",
   "execution_count": null,
   "metadata": {},
   "outputs": [],
   "source": []
  }
 ],
 "metadata": {
  "kernelspec": {
   "display_name": "Python 3.8.5 64-bit",
   "language": "python",
   "name": "python3"
  },
  "language_info": {
   "codemirror_mode": {
    "name": "ipython",
    "version": 3
   },
   "file_extension": ".py",
   "mimetype": "text/x-python",
   "name": "python",
   "nbconvert_exporter": "python",
   "pygments_lexer": "ipython3",
   "version": "3.8.5"
  },
  "orig_nbformat": 4,
  "vscode": {
   "interpreter": {
    "hash": "9650cb4e16cdd4a8e8e2d128bf38d875813998db22a3c986335f89e0cb4d7bb2"
   }
  }
 },
 "nbformat": 4,
 "nbformat_minor": 2
}
