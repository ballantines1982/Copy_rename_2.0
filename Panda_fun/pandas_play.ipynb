{
 "cells": [
  {
   "cell_type": "code",
   "execution_count": 3,
   "metadata": {},
   "outputs": [
    {
     "name": "stdout",
     "output_type": "stream",
     "text": [
      "   Test    Mean  Sum_Mean_diff  Percent Evaluation\n",
      "0   268  140.35         127.65      9.5       High\n",
      "1    37  140.35        -103.35      1.3        Low\n",
      "2   195  140.35          54.65      6.9     Middle\n",
      "3    71  140.35         -69.35      2.5        Low\n",
      "4   178  140.35          37.65      6.3     Middle\n"
     ]
    }
   ],
   "source": [
    "import pandas as pd\n",
    "import numpy as np\n",
    "\n",
    "def percent_evaluation(x):\n",
    "    \n",
    "    if x < 3:\n",
    "        y = 'Low'\n",
    "    elif x >= 3 and x <=8:\n",
    "        y = 'Middle'\n",
    "    elif x > 8:\n",
    "        y = 'High'\n",
    "    return y\n",
    "\n",
    "\n",
    "data = np.random.randint(1,300, size=20)\n",
    "\n",
    "df = pd.DataFrame(data, columns=['Test'])\n",
    "\n",
    "\n",
    "\n",
    "df['Mean'] = df.Test.mean()\n",
    "df['Sum_Mean_diff'] = df.Test - df.Test.mean()\n",
    "df['Percent'] = (df.Test / df.Test.sum() * 100).round(1)\n",
    "df['Evaluation'] = df['Percent'].apply(percent_evaluation)\n",
    "\n",
    "\n",
    "print(df.head())\n"
   ]
  },
  {
   "cell_type": "markdown",
   "metadata": {},
   "source": [
    "Kommentar"
   ]
  },
  {
   "cell_type": "code",
   "execution_count": 2,
   "metadata": {},
   "outputs": [
    {
     "name": "stdout",
     "output_type": "stream",
     "text": [
      "            count  min   sum   mean\n",
      "Evaluation                         \n",
      "High            3  291   882  294.0\n",
      "Low             4   18   176   44.0\n",
      "Middle         13  113  2418  186.0\n"
     ]
    }
   ],
   "source": [
    "df2 = df.groupby(['Evaluation'])['Test'].agg(['count', 'min', 'sum', 'mean'])\n",
    "print(df2)"
   ]
  },
  {
   "cell_type": "code",
   "execution_count": null,
   "metadata": {},
   "outputs": [],
   "source": []
  }
 ],
 "metadata": {
  "kernelspec": {
   "display_name": "Python 3.8.5 64-bit",
   "language": "python",
   "name": "python3"
  },
  "language_info": {
   "codemirror_mode": {
    "name": "ipython",
    "version": 3
   },
   "file_extension": ".py",
   "mimetype": "text/x-python",
   "name": "python",
   "nbconvert_exporter": "python",
   "pygments_lexer": "ipython3",
   "version": "3.8.5"
  },
  "orig_nbformat": 4,
  "vscode": {
   "interpreter": {
    "hash": "9650cb4e16cdd4a8e8e2d128bf38d875813998db22a3c986335f89e0cb4d7bb2"
   }
  }
 },
 "nbformat": 4,
 "nbformat_minor": 2
}
